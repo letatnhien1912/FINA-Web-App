{
 "cells": [
  {
   "cell_type": "code",
   "execution_count": 5,
   "metadata": {},
   "outputs": [],
   "source": [
    "from database import SessionLocal, engine\n",
    "import crud, models\n",
    "\n",
    "models.Base.metadata.create_all(bind=engine)\n",
    "def get_db():\n",
    "    db = SessionLocal()\n",
    "\n",
    "    return db\n",
    "db = get_db()\n",
    "transactions = crud.get_transactions(db, user_id=1)\n",
    "categories = crud.get_categories(db, user_id=1)\n",
    "wallets = crud.get_wallets(db, user_id=1)\n",
    "transaction_types = crud.get_transaction_types(db)"
   ]
  },
  {
   "cell_type": "code",
   "execution_count": 2,
   "metadata": {},
   "outputs": [
    {
     "data": {
      "text/plain": [
       "datetime.date(2024, 10, 1)"
      ]
     },
     "execution_count": 2,
     "metadata": {},
     "output_type": "execute_result"
    }
   ],
   "source": [
    "from datetime import datetime, date\n",
    "datetime.fromisoformat('2024-10-01').date()"
   ]
  }
 ],
 "metadata": {
  "kernelspec": {
   "display_name": "env",
   "language": "python",
   "name": "python3"
  },
  "language_info": {
   "codemirror_mode": {
    "name": "ipython",
    "version": 3
   },
   "file_extension": ".py",
   "mimetype": "text/x-python",
   "name": "python",
   "nbconvert_exporter": "python",
   "pygments_lexer": "ipython3",
   "version": "3.11.1"
  }
 },
 "nbformat": 4,
 "nbformat_minor": 2
}
