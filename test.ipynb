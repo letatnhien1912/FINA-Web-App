{
 "cells": [
  {
   "cell_type": "code",
   "execution_count": 5,
   "metadata": {},
   "outputs": [],
   "source": [
    "from database import SessionLocal, engine\n",
    "import crud, models\n",
    "\n",
    "models.Base.metadata.create_all(bind=engine)\n",
    "def get_db():\n",
    "    db = SessionLocal()\n",
    "\n",
    "    return db\n",
    "db = get_db()\n",
    "transactions = crud.get_transactions(db, user_id=1)\n",
    "categories = crud.get_categories(db, user_id=1)\n",
    "wallets = crud.get_wallets(db, user_id=1)\n",
    "transaction_types = crud.get_transaction_types(db)"
   ]
  },
  {
   "cell_type": "code",
   "execution_count": 6,
   "metadata": {},
   "outputs": [
    {
     "data": {
      "text/plain": [
       "[{1: 'salary'},\n",
       " {2: 'loan'},\n",
       " {3: 'debt collection'},\n",
       " {4: 'interest'},\n",
       " {5: 'sidejob'},\n",
       " {6: 'other income'},\n",
       " {7: 'food'},\n",
       " {8: 'shopping'},\n",
       " {9: 'living cost'},\n",
       " {10: 'entertaining'},\n",
       " {11: 'transportation'},\n",
       " {12: 'debt payment'},\n",
       " {13: 'lending'},\n",
       " {14: 'study'},\n",
       " {15: 'health care'},\n",
       " {16: 'gift'},\n",
       " {17: 'housing'},\n",
       " {18: 'other cost'},\n",
       " {19: 'investment lost'},\n",
       " {20: 'transfer'}]"
      ]
     },
     "execution_count": 6,
     "metadata": {},
     "output_type": "execute_result"
    }
   ],
   "source": [
    "unique_options = {'categories': [{id: {x.id: x.category_name for x in categories}[id]} for id in set(transaction.category_id for transaction in transactions)],\n",
    "                      'wallets': [{id: {x.id: x.wallet_name for x in wallets}[id]} for id in set(transaction.wallet_id for transaction in transactions)],\n",
    "                      'transaction_types': [{id: {x.id: x.transaction_type_name for x in transaction_types}[id]} for id in set(transaction.transaction_type_id for transaction in transactions)]}\n",
    "unique_options['categories']"
   ]
  }
 ],
 "metadata": {
  "kernelspec": {
   "display_name": "env",
   "language": "python",
   "name": "python3"
  },
  "language_info": {
   "codemirror_mode": {
    "name": "ipython",
    "version": 3
   },
   "file_extension": ".py",
   "mimetype": "text/x-python",
   "name": "python",
   "nbconvert_exporter": "python",
   "pygments_lexer": "ipython3",
   "version": "3.11.1"
  }
 },
 "nbformat": 4,
 "nbformat_minor": 2
}
